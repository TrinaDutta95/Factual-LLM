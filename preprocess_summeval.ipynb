{
 "cells": [
  {
   "cell_type": "markdown",
   "metadata": {},
   "source": [
    "## Preprocess Summeval by Yale-LILY for collecting activations"
   ]
  },
  {
   "cell_type": "markdown",
   "metadata": {},
   "source": [
    "### Load the dataset"
   ]
  },
  {
   "cell_type": "code",
   "execution_count": null,
   "metadata": {},
   "outputs": [
    {
     "data": {
      "application/vnd.jupyter.widget-view+json": {
       "model_id": "db4142878a1c49da8e93f40257bf99df",
       "version_major": 2,
       "version_minor": 0
      },
      "text/plain": [
       "README.md:   0%|          | 0.00/828 [00:00<?, ?B/s]"
      ]
     },
     "metadata": {},
     "output_type": "display_data"
    },
    {
     "data": {
      "application/vnd.jupyter.widget-view+json": {
       "model_id": "656c732195b44de599878d685e0ee7a8",
       "version_major": 2,
       "version_minor": 0
      },
      "text/plain": [
       "summeval.json:   0%|          | 0.00/9.42M [00:00<?, ?B/s]"
      ]
     },
     "metadata": {},
     "output_type": "display_data"
    },
    {
     "data": {
      "application/vnd.jupyter.widget-view+json": {
       "model_id": "67b3ad5bdb414a4b945a88b5ee1a578b",
       "version_major": 2,
       "version_minor": 0
      },
      "text/plain": [
       "Generating train split:   0%|          | 0/1700 [00:00<?, ? examples/s]"
      ]
     },
     "metadata": {},
     "output_type": "display_data"
    }
   ],
   "source": [
    "from datasets import load_dataset\n",
    "\n",
    "\n",
    "# Load the SummEval dataset\n",
    "dataset = load_dataset(\"davidanugraha/SummEval\")"
   ]
  },
  {
   "cell_type": "code",
   "execution_count": 6,
   "metadata": {},
   "outputs": [
    {
     "name": "stdout",
     "output_type": "stream",
     "text": [
      "['id', 'model_id', 'filepath', 'hyp', 'refs', 'source', 'expert_coherence', 'expert_consistency', 'expert_fluency', 'expert_relevance']\n"
     ]
    }
   ],
   "source": [
    "# Check column names to confirm field availability\n",
    "print(dataset[\"train\"].column_names)"
   ]
  },
  {
   "cell_type": "markdown",
   "metadata": {},
   "source": [
    "### Preprocess dataset and update attribute columns"
   ]
  },
  {
   "cell_type": "code",
   "execution_count": 10,
   "metadata": {},
   "outputs": [
    {
     "data": {
      "application/vnd.jupyter.widget-view+json": {
       "model_id": "1b9862fd7d274fbea70e2d1e56fd3813",
       "version_major": 2,
       "version_minor": 0
      },
      "text/plain": [
       "Map:   0%|          | 0/1700 [00:00<?, ? examples/s]"
      ]
     },
     "metadata": {},
     "output_type": "display_data"
    }
   ],
   "source": [
    "import pandas as pd\n",
    "\n",
    "def transform_data(row, threshold=3.0):\n",
    "    # Compute the average score across all expert dimensions\n",
    "    average_score = round((\n",
    "        row[\"expert_coherence\"] +\n",
    "        row[\"expert_consistency\"] +\n",
    "        row[\"expert_fluency\"] +\n",
    "        row[\"expert_relevance\"]\n",
    "    ) / 4)\n",
    "\n",
    "    # Assign a binary label based on the average score\n",
    "    label = 1 if average_score >= threshold else 0\n",
    "\n",
    "    return {\n",
    "        \"id\": row[\"id\"],\n",
    "        \"summary\": row[\"hyp\"],\n",
    "        \"doc\": row[\"source\"],\n",
    "        \"is_factual\": row[\"expert_consistency\"],  # factuality\n",
    "        \"average_overall_score\": average_score  # Optional, to track raw scores\n",
    "    }\n",
    "\n",
    "# Apply transformation\n",
    "transformed_dataset = dataset.map(transform_data)\n"
   ]
  },
  {
   "cell_type": "code",
   "execution_count": 11,
   "metadata": {},
   "outputs": [
    {
     "name": "stdout",
     "output_type": "stream",
     "text": [
      "{'id': 'dm-test-8764fb95bfad8ee849274873a92fb8d6b400eee2', 'model_id': 'M11', 'filepath': 'cnndm/dailymail/stories/8764fb95bfad8ee849274873a92fb8d6b400eee2.story', 'hyp': \"paul merson was brought on with only seven minutes remaining in his team 's 0-0 draw with burnley . andros townsend scored the tottenham midfielder in the 89th minute . paul merson had another dig at andros townsend after his appearance . the midfielder had been brought on to the england squad last week . click here for all the latest arsenal news news .\", 'refs': [\"Andros Townsend an 83rd minute sub in Tottenham's draw with Burnley. He was unable to find a winner as the game ended without a goal. Townsend had clashed with Paul Merson last week over England call-up.\", 'Sports columnist Paul Merson and Andros Townsend are in the midst of a twitter feud. Merson started it when Townsend was called up and wrote something disparaging about him in his column. Since then things have gone back and forth between the two.', 'Merson is angered by the statement made by Townsend in his Sky Sports column. Merson threw a dig at Townsend after scoring his last game.', \"Paul Merson has officially restarted his row line up with Andros Townsend. This is a result of seeing Townsend's performance in the last seven minutes of the game the previous Sunday.\", 'An athlete was brought in to save the game during an event against a rival team.  Although many disagreed with this decision as players have been known to get in trouble from time to time.', 'Paul Merson and Andros Townsend have been in a bout for a while now, Merson felt that Townsend did not deserve a place in the English team. Townsend scored for England with a crucial goal to which Merson apologized and acknowledge the performance of Townsend in that game and wished him well on his performance. The back and forth between the two men has continued regardless but it appears that now their bad feelings have subsided despite some light jest between the two.', 'Paul Merson restarted his fued with the former Arenal player Andros Townsend. Townsend the former Arsenal player scored a goal for England against italy. Townsend replied to Mersons remarks on Twitter by saying \"not bad for a player that should be` nowhere near the squad \\'ay\"', 'Paul Merson used to play for Arsenal. Andros Townsend has been criticized by Paul Merson. The goal scored against Italy was made by Townsend.', 'Paul Merson, former Arsenal player and Andros Townsend have restarted their bout of banter. Merson tweeted about Townsend and his poor performance making it clear he did not believe that Townsend was good enough to play for England. Townsend however scored the crucial goal for England vs Italy. Merson swallowed his criticism of Townsend and acknowledge his performance. The two are in a good place now however and any subsequent banter between the two appears to have been in good taste.', 'Andros Townsend used to play for arsenal. Sky sports pundit Merson criticized Andros Townsend. Andros Townsend scored a goal against Italy to a draw.', 'Paul Merson, the Sky Sports pundit, criticized Andros Townsend last week after his call-up to the england squad.  Merson admitted it was a mistake after Townsend scored, bringing the match against Italy to a tie on Tuesday.  Merson is a former Arsenal player himself.'], 'source': \"Paul Merson has restarted his row with Andros Townsend after the Tottenham midfielder was brought on with only seven minutes remaining in his team's 0-0 draw with Burnley on Sunday. 'Just been watching the game, did you miss the coach? #RubberDub #7minutes,' Merson put on Twitter. Merson initially angered Townsend for writing in his Sky Sports column that 'if Andros Townsend can get in (the England team) then it opens it up to anybody.' Paul Merson had another dig at Andros Townsend after his appearance for Tottenham against Burnley Townsend was brought on in the 83rd minute for Tottenham as they drew 0-0 against Burnley Andros Townsend scores England's equaliser in their 1-1 friendly draw with Italy in Turin on Tuesday night The former Arsenal man was proven wrong when Townsend hit a stunning equaliser for England against Italy and he duly admitted his mistake. 'It's not as though I was watching hoping he wouldn't score for England, I'm genuinely pleased for him and fair play to him – it was a great goal,' Merson said. 'It's just a matter of opinion, and my opinion was that he got pulled off after half an hour at Manchester United in front of Roy Hodgson, so he shouldn't have been in the squad. 'When I'm wrong, I hold my hands up. I don't have a problem with doing that - I'll always be the first to admit when I'm wrong.' Townsend hit back at Merson on Twitter after scoring for England against Italy Sky Sports pundit  Merson (centre) criticised Townsend's call-up to the England squad last week Townsend hit back at Merson after netting for England in Turin on Wednesday, saying 'Not bad for a player that should be 'nowhere near the squad' ay @PaulMerse?' Any bad feeling between the pair seemed to have passed but Merson was unable to resist having another dig at Townsend after Tottenham drew at Turf Moor.\", 'expert_coherence': 1.3333333333000001, 'expert_consistency': 1.0, 'expert_fluency': 3.0, 'expert_relevance': 1.6666666667, 'summary': \"paul merson was brought on with only seven minutes remaining in his team 's 0-0 draw with burnley . andros townsend scored the tottenham midfielder in the 89th minute . paul merson had another dig at andros townsend after his appearance . the midfielder had been brought on to the england squad last week . click here for all the latest arsenal news news .\", 'doc': \"Paul Merson has restarted his row with Andros Townsend after the Tottenham midfielder was brought on with only seven minutes remaining in his team's 0-0 draw with Burnley on Sunday. 'Just been watching the game, did you miss the coach? #RubberDub #7minutes,' Merson put on Twitter. Merson initially angered Townsend for writing in his Sky Sports column that 'if Andros Townsend can get in (the England team) then it opens it up to anybody.' Paul Merson had another dig at Andros Townsend after his appearance for Tottenham against Burnley Townsend was brought on in the 83rd minute for Tottenham as they drew 0-0 against Burnley Andros Townsend scores England's equaliser in their 1-1 friendly draw with Italy in Turin on Tuesday night The former Arsenal man was proven wrong when Townsend hit a stunning equaliser for England against Italy and he duly admitted his mistake. 'It's not as though I was watching hoping he wouldn't score for England, I'm genuinely pleased for him and fair play to him – it was a great goal,' Merson said. 'It's just a matter of opinion, and my opinion was that he got pulled off after half an hour at Manchester United in front of Roy Hodgson, so he shouldn't have been in the squad. 'When I'm wrong, I hold my hands up. I don't have a problem with doing that - I'll always be the first to admit when I'm wrong.' Townsend hit back at Merson on Twitter after scoring for England against Italy Sky Sports pundit  Merson (centre) criticised Townsend's call-up to the England squad last week Townsend hit back at Merson after netting for England in Turin on Wednesday, saying 'Not bad for a player that should be 'nowhere near the squad' ay @PaulMerse?' Any bad feeling between the pair seemed to have passed but Merson was unable to resist having another dig at Townsend after Tottenham drew at Turf Moor.\", 'is_factual': 1.0, 'average_overall_score': 2}\n"
     ]
    }
   ],
   "source": [
    "# Inspect the transformed dataset\n",
    "print(transformed_dataset[\"train\"][0])  # Replace \"train\" with the appropriate split"
   ]
  },
  {
   "cell_type": "code",
   "execution_count": 12,
   "metadata": {},
   "outputs": [
    {
     "name": "stdout",
     "output_type": "stream",
     "text": [
      "['id', 'model_id', 'filepath', 'hyp', 'refs', 'source', 'expert_coherence', 'expert_consistency', 'expert_fluency', 'expert_relevance', 'summary', 'doc', 'is_factual', 'average_overall_score']\n"
     ]
    }
   ],
   "source": [
    "print(transformed_dataset[\"train\"].column_names)"
   ]
  },
  {
   "cell_type": "markdown",
   "metadata": {},
   "source": [
    "### Remove extra columns"
   ]
  },
  {
   "cell_type": "code",
   "execution_count": 13,
   "metadata": {},
   "outputs": [
    {
     "name": "stdout",
     "output_type": "stream",
     "text": [
      "['id', 'summary', 'doc', 'is_factual', 'average_overall_score']\n"
     ]
    }
   ],
   "source": [
    "# List of columns you want to keep\n",
    "columns_to_keep = [\"id\", \"summary\", \"doc\", \"is_factual\", \"average_overall_score\"]\n",
    "\n",
    "# Remove unnecessary columns\n",
    "transformed_dataset = transformed_dataset.remove_columns(\n",
    "    [col for col in transformed_dataset[\"train\"].column_names if col not in columns_to_keep]\n",
    ")\n",
    "\n",
    "# Inspect the cleaned dataset\n",
    "print(transformed_dataset[\"train\"].column_names)\n"
   ]
  },
  {
   "cell_type": "code",
   "execution_count": 14,
   "metadata": {},
   "outputs": [
    {
     "data": {
      "application/vnd.jupyter.widget-view+json": {
       "model_id": "95ec6a2509924959bec52c1148d55dcf",
       "version_major": 2,
       "version_minor": 0
      },
      "text/plain": [
       "Saving the dataset (0/1 shards):   0%|          | 0/1700 [00:00<?, ? examples/s]"
      ]
     },
     "metadata": {},
     "output_type": "display_data"
    }
   ],
   "source": [
    "# Save the transformed dataset to disk\n",
    "transformed_dataset.save_to_disk(\"cnndm_factual\")"
   ]
  },
  {
   "cell_type": "markdown",
   "metadata": {},
   "source": [
    "### Load the preprocessed dataset"
   ]
  },
  {
   "cell_type": "code",
   "execution_count": 1,
   "metadata": {},
   "outputs": [
    {
     "name": "stdout",
     "output_type": "stream",
     "text": [
      "Dataset({\n",
      "    features: ['id', 'summary', 'doc', 'is_factual', 'average_overall_score'],\n",
      "    num_rows: 1700\n",
      "})\n"
     ]
    }
   ],
   "source": [
    "from datasets import Dataset\n",
    "\n",
    "dataset = Dataset.load_from_disk(\"cnndm_factual/train\")\n",
    "print(dataset)"
   ]
  },
  {
   "cell_type": "code",
   "execution_count": 4,
   "metadata": {},
   "outputs": [
    {
     "name": "stdout",
     "output_type": "stream",
     "text": [
      "{'id': 'dm-test-eeef09d26cf30c2124c0399b08eedc6321fe5d20', 'summary': 'neymar and alves headed to watch el clasico on thursday night . dani alves proved their dedication to barcelona by supporting basketball side . real madrid remain top of their euro league division over their bitter rivals .', 'doc': \"Team-mates Neymar and Dani Alves proved their dedication to Barcelona by supporting the club’s basketball side. Neymar and Alves headed to watch El Clasico on Thursday night alongside the Brazilian's sister Rafaella. Barca prevailed with a narrow 85-80 victory in the Euro League contest. Brazil star Neymar (centre) takes a selfie with friends and Barcelona team-mate Dani Alves (right) However Real Madrid remain top of their Euro League division over their bitter rivals, just by points difference. Neymar helped Brazil beat Chile 1-0 at the Emirates Stadium on Sunday in a feisty contest and had to withstand several brutal challenges from the South American rivals. Before the international break Luis Enrique's Barcelona had won their El Clasico contest to move four points clear at the top of La Liga. Neymar and his Barcelona team-mates return to La Liga on Sunday, taking on Celta Vigo as they continue to compete for a treble of trophies. Neymar's sister Rafaella (left) headed to watch El Clasico of basketball with the Barcelona forward Neymar's sister Rafaella (right) attends a Euro League basketball match between Barcelona and Real Madrid Neymar is distracted at the basketball as his sister Rafaella (centre) watches on Neymar, Brazil's captain, led his national side to a 1-0 win over Chile at the Emirates last weekend Barcelona team-mate Dani Alves (front left) joined Neymar and friends to watch some live basketball Gary Medel walks off having appeared to stamp on Neymar at the Emirates on Sunday\", 'is_factual': 5.0, 'average_overall_score': 4}\n"
     ]
    }
   ],
   "source": [
    "print(dataset[200])"
   ]
  }
 ],
 "metadata": {
  "kernelspec": {
   "display_name": "Python (pyvene)",
   "language": "python",
   "name": "pyvene"
  },
  "language_info": {
   "codemirror_mode": {
    "name": "ipython",
    "version": 3
   },
   "file_extension": ".py",
   "mimetype": "text/x-python",
   "name": "python",
   "nbconvert_exporter": "python",
   "pygments_lexer": "ipython3",
   "version": "3.13.0"
  }
 },
 "nbformat": 4,
 "nbformat_minor": 2
}
